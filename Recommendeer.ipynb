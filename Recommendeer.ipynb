{
 "cells": [
  {
   "cell_type": "code",
   "execution_count": null,
   "metadata": {},
   "outputs": [],
   "source": [
    "## install dependancies"
   ]
  },
  {
   "cell_type": "code",
   "execution_count": 1,
   "metadata": {},
   "outputs": [
    {
     "name": "stdout",
     "output_type": "stream",
     "text": [
      "Requirement already satisfied: lightfm in c:\\users\\mikel\\appdata\\local\\programs\\python\\python37-32\\lib\\site-packages (1.15)\n",
      "Requirement already satisfied: numpy in c:\\users\\mikel\\appdata\\local\\programs\\python\\python37-32\\lib\\site-packages (from lightfm) (1.17.0)\n",
      "Requirement already satisfied: scipy>=0.17.0 in c:\\users\\mikel\\appdata\\local\\programs\\python\\python37-32\\lib\\site-packages (from lightfm) (1.3.1)\n",
      "Requirement already satisfied: requests in c:\\users\\mikel\\appdata\\local\\programs\\python\\python37-32\\lib\\site-packages (from lightfm) (2.22.0)\n",
      "Requirement already satisfied: chardet<3.1.0,>=3.0.2 in c:\\users\\mikel\\appdata\\local\\programs\\python\\python37-32\\lib\\site-packages (from requests->lightfm) (3.0.4)\n",
      "Requirement already satisfied: urllib3!=1.25.0,!=1.25.1,<1.26,>=1.21.1 in c:\\users\\mikel\\appdata\\local\\programs\\python\\python37-32\\lib\\site-packages (from requests->lightfm) (1.25.6)\n",
      "Requirement already satisfied: certifi>=2017.4.17 in c:\\users\\mikel\\appdata\\local\\programs\\python\\python37-32\\lib\\site-packages (from requests->lightfm) (2019.9.11)\n",
      "Requirement already satisfied: idna<2.9,>=2.5 in c:\\users\\mikel\\appdata\\local\\programs\\python\\python37-32\\lib\\site-packages (from requests->lightfm) (2.8)\n",
      "Note: you may need to restart the kernel to use updated packages.\n"
     ]
    },
    {
     "name": "stderr",
     "output_type": "stream",
     "text": [
      "c:\\users\\mikel\\appdata\\local\\programs\\python\\python37-32\\lib\\site-packages\\lightfm\\_lightfm_fast.py:9: UserWarning: LightFM was compiled without OpenMP support. Only a single thread will be used.\n",
      "  warnings.warn('LightFM was compiled without OpenMP support. '\n"
     ]
    }
   ],
   "source": [
    "import numpy as np \n",
    "\n",
    "%pip install lightfm\n",
    "from lightfm.datasets import fetch_movielens\n",
    "from lightfm import LightFM"
   ]
  },
  {
   "cell_type": "code",
   "execution_count": 5,
   "metadata": {},
   "outputs": [],
   "source": [
    "## fetch data and format it "
   ]
  },
  {
   "cell_type": "code",
   "execution_count": 6,
   "metadata": {},
   "outputs": [],
   "source": [
    "data = fetch_movielens(min_rating=4.0)"
   ]
  },
  {
   "cell_type": "code",
   "execution_count": 7,
   "metadata": {},
   "outputs": [],
   "source": [
    "## print training and testing data "
   ]
  },
  {
   "cell_type": "code",
   "execution_count": 8,
   "metadata": {},
   "outputs": [
    {
     "name": "stdout",
     "output_type": "stream",
     "text": [
      "<943x1682 sparse matrix of type '<class 'numpy.int32'>'\n",
      "\twith 49906 stored elements in COOrdinate format>\n",
      "<943x1682 sparse matrix of type '<class 'numpy.int32'>'\n",
      "\twith 5469 stored elements in COOrdinate format>\n"
     ]
    }
   ],
   "source": [
    "print(repr(data['train']))\n",
    "print(repr(data['test']))"
   ]
  },
  {
   "cell_type": "code",
   "execution_count": 9,
   "metadata": {},
   "outputs": [],
   "source": [
    "## create model \n",
    "# loss function Weighted Approximate-Rank Pairwise"
   ]
  },
  {
   "cell_type": "code",
   "execution_count": 10,
   "metadata": {},
   "outputs": [],
   "source": [
    "model = LightFM(loss='warp')"
   ]
  },
  {
   "cell_type": "code",
   "execution_count": 11,
   "metadata": {},
   "outputs": [],
   "source": [
    "## train model "
   ]
  },
  {
   "cell_type": "code",
   "execution_count": 12,
   "metadata": {},
   "outputs": [
    {
     "data": {
      "text/plain": [
       "<lightfm.lightfm.LightFM at 0x100412f0>"
      ]
     },
     "execution_count": 12,
     "metadata": {},
     "output_type": "execute_result"
    }
   ],
   "source": [
    "model.fit(data['train'], epochs=30, num_threads=2)"
   ]
  },
  {
   "cell_type": "code",
   "execution_count": 15,
   "metadata": {},
   "outputs": [],
   "source": [
    "def sample_recommendation(model, data, user_ids):\n",
    "    \n",
    "    #number of users and movies in training data\n",
    "    n_users, n_items = data['train'].shape\n",
    "    \n",
    "    #generate recommendations for each user we input\n",
    "    for user_id in user_ids:\n",
    "        \n",
    "        #movies they already like. tocsr() - compressed sparse row\n",
    "        known_positives = data['item_labels'][data['train'].tocsr()[user_id].indices]\n",
    "        \n",
    "        #movies our model predicts they will like\n",
    "        scores = model.predict(user_id, np_arange(n_items))\n",
    "        \n",
    "        #rank them in order of most liked to least\n",
    "        top_items = data['item_labels'][np.argsort(-scores)]\n",
    "        \n",
    "        #prints out the results\n",
    "        print(\"User %s\" % user_id)\n",
    "        print(\"    known_positives:\")\n",
    "        \n",
    "        for x in known_positives[:3]:\n",
    "            print(\"          %s\" %x)\n",
    "            \n",
    "        print(\"    Recommended:\")\n",
    "        \n",
    "        for x in top_items[:3]:\n",
    "            print(\"          %s\" %x)\n",
    "            \n",
    "    sample_recommendation(model, data, user_ids[3, 25, 450])"
   ]
  },
  {
   "cell_type": "code",
   "execution_count": null,
   "metadata": {},
   "outputs": [],
   "source": []
  },
  {
   "cell_type": "code",
   "execution_count": null,
   "metadata": {},
   "outputs": [],
   "source": []
  },
  {
   "cell_type": "code",
   "execution_count": null,
   "metadata": {},
   "outputs": [],
   "source": []
  }
 ],
 "metadata": {
  "kernelspec": {
   "display_name": "Python 3",
   "language": "python",
   "name": "python3"
  },
  "language_info": {
   "codemirror_mode": {
    "name": "ipython",
    "version": 3
   },
   "file_extension": ".py",
   "mimetype": "text/x-python",
   "name": "python",
   "nbconvert_exporter": "python",
   "pygments_lexer": "ipython3",
   "version": "3.7.4"
  }
 },
 "nbformat": 4,
 "nbformat_minor": 2
}
